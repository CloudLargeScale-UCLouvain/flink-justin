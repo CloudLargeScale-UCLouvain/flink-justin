{
 "cells": [
  {
   "cell_type": "code",
   "execution_count": 5,
   "metadata": {},
   "outputs": [
    {
     "name": "stdout",
     "output_type": "stream",
     "text": [
      "The history saving thread hit an unexpected error (OperationalError('attempt to write a readonly database')).History will not be written to the database.\n"
     ]
    }
   ],
   "source": [
    "import requests\n",
    "import time"
   ]
  },
  {
   "cell_type": "code",
   "execution_count": 6,
   "metadata": {},
   "outputs": [],
   "source": [
    "configuration = \"\"\"{\n",
    "    \"cbc357ccb763df2852fee8c4fc7d55f2\": {\n",
    "        \"parallelism\": {\n",
    "            \"lowerBound\": 1,\n",
    "            \"upperBound\": 1\n",
    "        },\n",
    "        \"resourceProfile\": {\n",
    "            \"cpuCores\": {\n",
    "                \"name\": \"CPU\",\n",
    "                \"value\": 1,\n",
    "                \"zero\": false\n",
    "            },\n",
    "            \"taskHeapMemory\": {\n",
    "                \"bytes\": 119453752,\n",
    "                \"kibiBytes\": 371712,\n",
    "                \"mebiBytes\": 363,\n",
    "                \"gibiBytes\": 0,\n",
    "                \"tebiBytes\": 0\n",
    "            },\n",
    "            \"taskOffHeapMemory\": {\n",
    "                \"bytes\": 0,\n",
    "                \"kibiBytes\": 0,\n",
    "                \"mebiBytes\": 0,\n",
    "                \"gibiBytes\": 0,\n",
    "                \"tebiBytes\": 0\n",
    "            },\n",
    "            \"managedMemory\": {\n",
    "                \"bytes\": 0,\n",
    "                \"kibiBytes\": 351232,\n",
    "                \"mebiBytes\": 343,\n",
    "                \"gibiBytes\": 0,\n",
    "                \"tebiBytes\": 0\n",
    "            },\n",
    "            \"networkMemory\": {\n",
    "                \"bytes\": 186562644,\n",
    "                \"kibiBytes\": 86016,\n",
    "                \"mebiBytes\": 84,\n",
    "                \"gibiBytes\": 0,\n",
    "                \"tebiBytes\": 0\n",
    "            }\n",
    "        }\n",
    "    },\n",
    "    \"fdaaed869c7e767a4ba54f74c039d468\": {\n",
    "        \"parallelism\": {\n",
    "            \"lowerBound\": 1,\n",
    "            \"upperBound\": 1\n",
    "        },\n",
    "        \"resourceProfile\": {\n",
    "            \"cpuCores\": {\n",
    "                \"name\": \"CPU\",\n",
    "                \"value\": 1,\n",
    "                \"zero\": false\n",
    "            },\n",
    "            \"taskHeapMemory\": {\n",
    "                \"bytes\": 119453752,\n",
    "                \"kibiBytes\": 371712,\n",
    "                \"mebiBytes\": 363,\n",
    "                \"gibiBytes\": 0,\n",
    "                \"tebiBytes\": 0\n",
    "            },\n",
    "            \"taskOffHeapMemory\": {\n",
    "                \"bytes\": 0,\n",
    "                \"kibiBytes\": 0,\n",
    "                \"mebiBytes\": 0,\n",
    "                \"gibiBytes\": 0,\n",
    "                \"tebiBytes\": 0\n",
    "            },\n",
    "            \"managedMemory\": {\n",
    "                \"bytes\": 0,\n",
    "                \"kibiBytes\": 351232,\n",
    "                \"mebiBytes\": 343,\n",
    "                \"gibiBytes\": 0,\n",
    "                \"tebiBytes\": 0\n",
    "            },\n",
    "            \"networkMemory\": {\n",
    "                \"bytes\": 186562644,\n",
    "                \"kibiBytes\": 86016,\n",
    "                \"mebiBytes\": 84,\n",
    "                \"gibiBytes\": 0,\n",
    "                \"tebiBytes\": 0\n",
    "            }\n",
    "        }\n",
    "    },\n",
    "    \"afcfe443e23d73c4737dc3635c2866c0\": {\n",
    "        \"parallelism\": {\n",
    "            \"lowerBound\": $PARALLELISM,\n",
    "            \"upperBound\": $PARALLELISM\n",
    "        },\n",
    "        \"resourceProfile\": {\n",
    "            \"cpuCores\": {\n",
    "                \"name\": \"CPU\",\n",
    "                \"value\": 1,\n",
    "                \"zero\": false\n",
    "            },\n",
    "            \"taskHeapMemory\": {\n",
    "                \"bytes\": 119453752,\n",
    "                \"kibiBytes\": 371712,\n",
    "                \"mebiBytes\": 363,\n",
    "                \"gibiBytes\": 0,\n",
    "                \"tebiBytes\": 0\n",
    "            },\n",
    "            \"taskOffHeapMemory\": {\n",
    "                \"bytes\": 0,\n",
    "                \"kibiBytes\": 0,\n",
    "                \"mebiBytes\": 0,\n",
    "                \"gibiBytes\": 0,\n",
    "                \"tebiBytes\": 0\n",
    "            },\n",
    "            \"managedMemory\": {\n",
    "                \"bytes\": $MANAGED,\n",
    "                \"kibiBytes\": 351232,\n",
    "                \"mebiBytes\": 343,\n",
    "                \"gibiBytes\": 0,\n",
    "                \"tebiBytes\": 0\n",
    "            },\n",
    "            \"networkMemory\": {\n",
    "                \"bytes\": 186562644,\n",
    "                \"kibiBytes\": 86016,\n",
    "                \"mebiBytes\": 84,\n",
    "                \"gibiBytes\": 0,\n",
    "                \"tebiBytes\": 0\n",
    "            }\n",
    "        }\n",
    "    }\n",
    "}\"\"\""
   ]
  },
  {
   "cell_type": "code",
   "execution_count": 7,
   "metadata": {},
   "outputs": [],
   "source": [
    "def run_xp():\n",
    "    jobs = requests.get(\"http://flink.127-0-0-1.sslip.io/jobs\").json()\n",
    "\n",
    "    job_id = [job['id'] for job in jobs['jobs'] if job['status'] == 'RUNNING'][0]\n",
    "    \n",
    "    for parallelism in [1, 2, 4, 8]:\n",
    "        for managed in [128, 256, 518, 1024, 2048]:\n",
    "            config = configuration.replace(\"$PARALLELISM\", str(parallelism))\n",
    "            config = config.replace(\"$MANAGED\", str(managed * 1024 * 1024))\n",
    "            #print(config)\n",
    "            r = requests.put(f\"http://flink.127-0-0-1.sslip.io/jobs/{job_id}/justin\", data=config)\n",
    "            time.sleep(600)"
   ]
  },
  {
   "cell_type": "markdown",
   "metadata": {},
   "source": [
    "# Read-only"
   ]
  },
  {
   "cell_type": "code",
   "execution_count": null,
   "metadata": {},
   "outputs": [
    {
     "name": "stdout",
     "output_type": "stream",
     "text": [
      "flinkdeployment.flink.apache.org/flink created\n"
     ]
    }
   ],
   "source": [
    "!kubectl apply -f read-only/query.yaml\n",
    "time.sleep(30)\n",
    "run_xp()\n",
    "!kubectl delete -f read-only/query.yaml\n"
   ]
  },
  {
   "cell_type": "markdown",
   "metadata": {},
   "source": [
    "# Write-only"
   ]
  },
  {
   "cell_type": "code",
   "execution_count": null,
   "metadata": {},
   "outputs": [],
   "source": [
    "!kubectl apply -f write-only/query.yaml\n",
    "time.sleep(30)\n",
    "run_xp()\n",
    "!kubectl delete -f write-only/query.yaml\n"
   ]
  },
  {
   "cell_type": "markdown",
   "metadata": {},
   "source": [
    "# Update"
   ]
  },
  {
   "cell_type": "code",
   "execution_count": null,
   "metadata": {},
   "outputs": [],
   "source": [
    "!kubectl apply -f update/query.yaml\n",
    "time.sleep(30)\n",
    "run_xp()\n",
    "!kubectl delete -f update/query.yaml\n"
   ]
  },
  {
   "cell_type": "markdown",
   "metadata": {},
   "source": [
    "# Observing Throughputs\n",
    "\n",
    "We can use Grafana to access Prometheus metrics and observe the throughput reached for each configuration.\n",
    "\n",
    "From a terminal, we need to expose the service to the outside using the `port-forward` utility.\n",
    "```bash\n",
    "$ kubectl port-forward -n manager svc/prom-grafana 3000:80\n",
    "```\n",
    "Grafana is now available on port 3000.\n",
    "\n",
    "[http://localhost:3000/explore?orgId=1&left=%5B%22now-3h%22,%22now%22,%22Prometheus%22,%7B%22refId%22:%22A%22,%22instant%22:true,%22range%22:true,%22exemplar%22:true,%22expr%22:%22sum(flink_taskmanager_job_task_operator_numRecordsOutPerSecond%7Boperator_name%3D~%5C%22Source.*%5C%22%7D)%22%7D%5D](http://localhost:3000/explore?orgId=1&left=%5B%22now-3h%22,%22now%22,%22Prometheus%22,%7B%22refId%22:%22A%22,%22instant%22:true,%22range%22:true,%22exemplar%22:true,%22expr%22:%22sum(flink_taskmanager_job_task_operator_numRecordsOutPerSecond%7Boperator_name%3D~%5C%22Source.*%5C%22%7D)%22%7D%5D)\n",
    "\n",
    "Credentials are: \n",
    "- admin\n",
    "- prom-operator\n"
   ]
  },
  {
   "cell_type": "markdown",
   "metadata": {},
   "source": []
  }
 ],
 "metadata": {
  "kernelspec": {
   "display_name": "Python 3",
   "language": "python",
   "name": "python3"
  },
  "language_info": {
   "codemirror_mode": {
    "name": "ipython",
    "version": 3
   },
   "file_extension": ".py",
   "mimetype": "text/x-python",
   "name": "python",
   "nbconvert_exporter": "python",
   "pygments_lexer": "ipython3",
   "version": "3.8.10"
  }
 },
 "nbformat": 4,
 "nbformat_minor": 4
}
