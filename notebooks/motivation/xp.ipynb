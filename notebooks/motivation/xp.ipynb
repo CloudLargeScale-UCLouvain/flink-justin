{
 "cells": [
  {
   "cell_type": "code",
   "execution_count": null,
   "metadata": {},
   "outputs": [],
   "source": [
    "import requests\n",
    "import time\n",
    "!export PATH=../../tools:$PATH\n",
    "# Replace with your own docker_id\n",
    "!export DOCKER_ID=..."
   ]
  },
  {
   "cell_type": "code",
   "execution_count": null,
   "metadata": {},
   "outputs": [],
   "source": [
    "configuration = \"\"\"{\n",
    "    \"384562a7f005fc5fb4e577c5b4c60617\": {\n",
    "        \"parallelism\": {\n",
    "            \"lowerBound\": 1,\n",
    "            \"upperBound\": 1\n",
    "        },\n",
    "        \"resourceProfile\": {\n",
    "            \"cpuCores\": {\n",
    "                \"name\": \"CPU\",\n",
    "                \"value\": 1,\n",
    "                \"zero\": false\n",
    "            },\n",
    "            \"taskHeapMemory\": {\n",
    "                \"bytes\": 119453752,\n",
    "                \"kibiBytes\": 0,\n",
    "                \"mebiBytes\": 0,\n",
    "                \"gibiBytes\": 0,\n",
    "                \"tebiBytes\": 0\n",
    "            },\n",
    "            \"taskOffHeapMemory\": {\n",
    "                \"bytes\": 0,\n",
    "                \"kibiBytes\": 0,\n",
    "                \"mebiBytes\": 0,\n",
    "                \"gibiBytes\": 0,\n",
    "                \"tebiBytes\": 0\n",
    "            },\n",
    "            \"managedMemory\": {\n",
    "                \"bytes\": 1492501155,\n",
    "                \"kibiBytes\": 0,\n",
    "                \"mebiBytes\": 0,\n",
    "                \"gibiBytes\": 0,\n",
    "                \"tebiBytes\": 0\n",
    "            },\n",
    "            \"networkMemory\": {\n",
    "                \"bytes\": 186562644,\n",
    "                \"kibiBytes\": 0,\n",
    "                \"mebiBytes\": 0,\n",
    "                \"gibiBytes\": 0,\n",
    "                \"tebiBytes\": 0\n",
    "            }\n",
    "        }\n",
    "    },\n",
    "    \"cbc357ccb763df2852fee8c4fc7d55f2\": {\n",
    "        \"parallelism\": {\n",
    "            \"lowerBound\": 1,\n",
    "            \"upperBound\": 1\n",
    "        },\n",
    "        \"resourceProfile\": {\n",
    "            \"cpuCores\": {\n",
    "                \"name\": \"CPU\",\n",
    "                \"value\": 1,\n",
    "                \"zero\": false\n",
    "            },\n",
    "            \"taskHeapMemory\": {\n",
    "                \"bytes\": 119453752,\n",
    "                \"kibiBytes\": 0,\n",
    "                \"mebiBytes\": 0,\n",
    "                \"gibiBytes\": 0,\n",
    "                \"tebiBytes\": 0\n",
    "            },\n",
    "            \"taskOffHeapMemory\": {\n",
    "                \"bytes\": 0,\n",
    "                \"kibiBytes\": 0,\n",
    "                \"mebiBytes\": 0,\n",
    "                \"gibiBytes\": 0,\n",
    "                \"tebiBytes\": 0\n",
    "            },\n",
    "            \"managedMemory\": {\n",
    "                \"bytes\": 1492501155,\n",
    "                \"kibiBytes\": 0,\n",
    "                \"mebiBytes\": 0,\n",
    "                \"gibiBytes\": 0,\n",
    "                \"tebiBytes\": 0\n",
    "            },\n",
    "            \"networkMemory\": {\n",
    "                \"bytes\": 186562644,\n",
    "                \"kibiBytes\": 0,\n",
    "                \"mebiBytes\": 0,\n",
    "                \"gibiBytes\": 0,\n",
    "                \"tebiBytes\": 0\n",
    "            }\n",
    "        }\n",
    "    },\n",
    "    \"bf003860ab139437fc03298928868735\": {\n",
    "        \"parallelism\": {\n",
    "            \"lowerBound\": $PARALLELISM,\n",
    "            \"upperBound\": $PARALLELISM\n",
    "        },\n",
    "        \"resourceProfile\": {\n",
    "            \"cpuCores\": {\n",
    "                \"name\": \"CPU\",\n",
    "                \"value\": 1,\n",
    "                \"zero\": false\n",
    "            },\n",
    "            \"taskHeapMemory\": {\n",
    "                \"bytes\": 119453752,\n",
    "                \"kibiBytes\": 0,\n",
    "                \"mebiBytes\": 0,\n",
    "                \"gibiBytes\": 0,\n",
    "                \"tebiBytes\": 0\n",
    "            },\n",
    "            \"taskOffHeapMemory\": {\n",
    "                \"bytes\": 0,\n",
    "                \"kibiBytes\": 0,\n",
    "                \"mebiBytes\": 0,\n",
    "                \"gibiBytes\": 0,\n",
    "                \"tebiBytes\": 0\n",
    "            },\n",
    "            \"managedMemory\": {\n",
    "                \"bytes\": $MANAGED,\n",
    "                \"kibiBytes\": 0,\n",
    "                \"mebiBytes\": 0,\n",
    "                \"gibiBytes\": 0,\n",
    "                \"tebiBytes\": 0\n",
    "            },\n",
    "            \"networkMemory\": {\n",
    "                \"bytes\": 186562644,\n",
    "                \"kibiBytes\": 0,\n",
    "                \"mebiBytes\": 0,\n",
    "                \"gibiBytes\": 0,\n",
    "                \"tebiBytes\": 0\n",
    "            }\n",
    "        }\n",
    "    }\n",
    "}\"\"\""
   ]
  },
  {
   "cell_type": "code",
   "execution_count": null,
   "metadata": {},
   "outputs": [
    {
     "data": {
      "text/plain": [
       "'4874d37ebe237dc4d243b9e0eec4673c'"
      ]
     },
     "execution_count": 11,
     "metadata": {},
     "output_type": "execute_result"
    }
   ],
   "source": [
    "def run_xp():\n",
    "    jobs = requests.get(\"http://localhost:8081/jobs\").json()\n",
    "\n",
    "    job_id = [job['id'] for job in jobs['jobs'] if job['status'] == 'RUNNING'][0]\n",
    "    \n",
    "    for parallelism in [1, 2, 4, 8]:\n",
    "        for managed in [128, 256, 518, 1024, 2048]:\n",
    "            config = configuration.replace(\"$PARALLELISM\", str(parallelism))\n",
    "            config = config.replace(\"$MANAGED\", str(managed * 1024 * 1024))\n",
    "            #print(config)\n",
    "            r = requests.put(f\"http://localhost:8081/jobs/{job_id}/justin\", data=config)\n",
    "            time.sleep(600)"
   ]
  },
  {
   "cell_type": "markdown",
   "metadata": {},
   "source": [
    "# Read-Only"
   ]
  },
  {
   "cell_type": "code",
   "execution_count": null,
   "metadata": {},
   "outputs": [
    {
     "name": "stdout",
     "output_type": "stream",
     "text": [
      "{}\n"
     ]
    }
   ],
   "source": [
    "\n",
    "!sed -i -e \"s/DOCKER_ID/$DOCKER_ID/g\" query.yaml; kubectl apply -f read-only/query.yaml\n",
    "time.sleep(30)\n",
    "run_xp()\n",
    "!kubectl delete -f read-only/query.yaml"
   ]
  },
  {
   "cell_type": "markdown",
   "metadata": {},
   "source": [
    "# Write-Only"
   ]
  },
  {
   "cell_type": "code",
   "execution_count": null,
   "metadata": {},
   "outputs": [],
   "source": [
    "\n",
    "!sed -i -e \"s/DOCKER_ID/$DOCKER_ID/g\" query.yaml; kubectl apply -f write-only/query.yaml\n",
    "time.sleep(30)\n",
    "run_xp()\n",
    "!kubectl delete -f write-only/query.yaml"
   ]
  },
  {
   "cell_type": "markdown",
   "metadata": {},
   "source": [
    "# Update"
   ]
  },
  {
   "cell_type": "code",
   "execution_count": null,
   "metadata": {},
   "outputs": [],
   "source": [
    "\n",
    "!sed -i -e \"s/DOCKER_ID/$DOCKER_ID/g\" query.yaml; kubectl apply -f update/query.yaml\n",
    "time.sleep(30)\n",
    "run_xp()\n",
    "!kubectl delete -f update/query.yaml"
   ]
  },
  {
   "cell_type": "markdown",
   "metadata": {},
   "source": [
    "# Observing Throughputs\n",
    "\n",
    "We can use Grafana to access Prometheus metrics and observe the throughput reached for each configuration.\n",
    "Credentials are: \n",
    "- admin\n",
    "- prom-operator\n",
    "\n",
    "[http://localhost:3000/explore?orgId=1&left=%5B%22now-3h%22,%22now%22,%22Prometheus%22,%7B%22refId%22:%22A%22,%22instant%22:true,%22range%22:true,%22exemplar%22:true,%22expr%22:%22sum(flink_taskmanager_job_task_operator_numRecordsOutPerSecond%7Boperator_name%3D~%5C%22Source.*%5C%22%7D)%22%7D%5D](http://localhost:3000/explore?orgId=1&left=%5B%22now-3h%22,%22now%22,%22Prometheus%22,%7B%22refId%22:%22A%22,%22instant%22:true,%22range%22:true,%22exemplar%22:true,%22expr%22:%22sum(flink_taskmanager_job_task_operator_numRecordsOutPerSecond%7Boperator_name%3D~%5C%22Source.*%5C%22%7D)%22%7D%5D)"
   ]
  },
  {
   "cell_type": "markdown",
   "metadata": {},
   "source": []
  }
 ],
 "metadata": {
  "kernelspec": {
   "display_name": "Python 3",
   "language": "python",
   "name": "python3"
  },
  "language_info": {
   "codemirror_mode": {
    "name": "ipython",
    "version": 3
   },
   "file_extension": ".py",
   "mimetype": "text/x-python",
   "name": "python",
   "nbconvert_exporter": "python",
   "pygments_lexer": "ipython3",
   "version": "3.8.10"
  }
 },
 "nbformat": 4,
 "nbformat_minor": 2
}
