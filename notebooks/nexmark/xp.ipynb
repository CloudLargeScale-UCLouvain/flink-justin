{
 "cells": [
  {
   "cell_type": "code",
   "execution_count": 1,
   "metadata": {},
   "outputs": [],
   "source": [
    "import requests\n",
    "import time"
   ]
  },
  {
   "cell_type": "code",
   "execution_count": null,
   "metadata": {},
   "outputs": [],
   "source": [
    "xp_duration = 600 # Time in second"
   ]
  },
  {
   "cell_type": "markdown",
   "metadata": {},
   "source": [
    "# Observing Throughputs\n",
    "\n",
    "We can use Grafana to access Prometheus metrics and observe the throughput reached for each configuration.\n",
    "\n",
    "From a terminal, we need to expose the service to the outside using the `port-forward` utility.\n",
    "```bash\n",
    "$ kubectl port-forward -n manager svc/prom-grafana 3000:80\n",
    "```\n",
    "Grafana is now available on port 3000.\n",
    "\n",
    "[http://localhost:3000/explore?orgId=1&left=%5B%22now-3h%22,%22now%22,%22Prometheus%22,%7B%22refId%22:%22A%22,%22instant%22:true,%22range%22:true,%22exemplar%22:true,%22expr%22:%22sum(flink_taskmanager_job_task_operator_numRecordsOutPerSecond%7Boperator_name%3D~%5C%22Source.*%5C%22%7D)%22%7D%5D](http://localhost:3000/explore?orgId=1&left=%5B%22now-3h%22,%22now%22,%22Prometheus%22,%7B%22refId%22:%22A%22,%22instant%22:true,%22range%22:true,%22exemplar%22:true,%22expr%22:%22sum(flink_taskmanager_job_task_operator_numRecordsOutPerSecond%7Boperator_name%3D~%5C%22Source.*%5C%22%7D)%22%7D%5D)\n",
    "\n",
    "Credentials are: \n",
    "- admin\n",
    "- prom-operator\n",
    "\n",
    "Flink doesn't expose the amount of managed memory allocated. This amount needs to be manually computed by either looking at the Slot Allocation in the JobManager's logs, or by looking at the Scaling Configuration (c.f. Section 4.1 of the paper) in the Operator's logs\n",
    "You can find the Scaling Configuration applied by using the following command:\n",
    "```bash\n",
    "$ kubectl get pods   --no-headers=true | awk '{print $1}' | grep flink-kubernetes-operator | xargs kubectl logs | grep ScalingConfiguration\n",
    "2025-03-14 14:14:30,481 o.a.f.a.ScalingExecutor        [INFO ][default/flink] ScalingConfigurations{currentPeriod={}, scalingConfiguration={df21eaa579f0fa28512847e1d151ffe9={0=ScalingConfiguration{scaling={afcfe443e23d73c4737dc3635c2866c0=ScalingInformation{avgThroughput=599954.01, parallelism=3, memoryLevel=-1, verticalScaling=false, horizontalScaling=false, avgCacheHitRate=0.0, avgStateLatency=0.0}, d0fdb9c6859d778b65cf8bc10eeef578=ScalingInformation{avgThroughput=Infinity, parallelism=15, memoryLevel=-1, verticalScaling=false, horizontalScaling=false, avgCacheHitRate=0.0, avgStateLatency=0.0}, 4fe84db7e190cf467a7cebccc5b77d31=ScalingInformation{avgThroughput=5568026.319, parallelism=1, memoryLevel=-1, verticalScaling=false, horizontalScaling=false, avgCacheHitRate=0.0, avgStateLatency=0.0}}}}}}\n",
    "```\n",
    "\n",
    "In the logs: `df21eaa579f0fa28512847e1d151ffe9` is the job ID, `0`is the time period, and `afcfe443e23d73c4737dc3635c2866c0`, `d0fdb9c6859d778b65cf8bc10eeef578`, and `4fe84db7e190cf467a7cebccc5b77d31` are the operators of the job."
   ]
  },
  {
   "cell_type": "markdown",
   "metadata": {},
   "source": [
    "# Nexmark"
   ]
  },
  {
   "cell_type": "markdown",
   "metadata": {},
   "source": [
    "### Query 1"
   ]
  },
  {
   "cell_type": "code",
   "execution_count": 9,
   "metadata": {},
   "outputs": [
    {
     "name": "stdout",
     "output_type": "stream",
     "text": [
      "flinkdeployment.flink.apache.org/flink created\n",
      "flinkdeployment.flink.apache.org \"flink\" deleted\n"
     ]
    }
   ],
   "source": [
    "!sed -e \"s/JUSTIN/false/g\" q1/query1.yaml |  kubectl apply -f -\n",
    "time.sleep(xp_duration)\n",
    "!kubectl delete -f q1/query1.yaml\n",
    "time.sleep(30)\n",
    "!sed -e \"s/JUSTIN/true/g\" q1/query1.yaml |  kubectl apply -f -\n",
    "time.sleep(xp_duration)\n",
    "!kubectl delete -f q1/query1.yaml"
   ]
  },
  {
   "cell_type": "markdown",
   "metadata": {},
   "source": [
    "### Query 2"
   ]
  },
  {
   "cell_type": "code",
   "execution_count": 10,
   "metadata": {},
   "outputs": [
    {
     "name": "stdout",
     "output_type": "stream",
     "text": [
      "flinkdeployment.flink.apache.org/flink created\n",
      "flinkdeployment.flink.apache.org \"flink\" deleted\n",
      "flinkdeployment.flink.apache.org/flink created\n",
      "flinkdeployment.flink.apache.org \"flink\" deleted\n"
     ]
    }
   ],
   "source": [
    "!sed -e \"s/JUSTIN/false/g\" q2/query2.yaml |  kubectl apply -f -\n",
    "time.sleep(xp_duration)\n",
    "!kubectl delete -f q2/query2.yaml\n",
    "time.sleep(30)\n",
    "!sed -e \"s/JUSTIN/true/g\" q2/query2.yaml |  kubectl apply -f -\n",
    "time.sleep(xp_duration)\n",
    "!kubectl delete -f q2/query2.yaml"
   ]
  },
  {
   "cell_type": "markdown",
   "metadata": {},
   "source": [
    "### Query 3"
   ]
  },
  {
   "cell_type": "code",
   "execution_count": null,
   "metadata": {},
   "outputs": [],
   "source": [
    "# Vanilla run\n",
    "!sed -e \"s/JUSTIN/false/g\" q3/query3.yaml |  kubectl apply -f -\n",
    "time.sleep(xp_duration)\n",
    "!kubectl delete -f q3/query3.yaml\n",
    "time.sleep(30)\n",
    "# Justin run\n",
    "!sed -e \"s/JUSTIN/true/g\" q3/query3.yaml |  kubectl apply -f -\n",
    "time.sleep(xp_duration)\n",
    "!kubectl delete -f q3/query3.yaml"
   ]
  },
  {
   "cell_type": "markdown",
   "metadata": {},
   "source": [
    "### Query 5"
   ]
  },
  {
   "cell_type": "code",
   "execution_count": null,
   "metadata": {},
   "outputs": [],
   "source": [
    "# Vanilla run\n",
    "!sed -e \"s/JUSTIN/false/g\" q5/query5.yaml |  kubectl apply -f -\n",
    "time.sleep(xp_duration)\n",
    "!kubectl delete -f q5/query5.yaml\n",
    "time.sleep(30)\n",
    "# Justin run\n",
    "!sed -e \"s/JUSTIN/true/g\" q5/query5.yaml |  kubectl apply -f -\n",
    "time.sleep(xp_duration)\n",
    "!kubectl delete -f q5/query5.yaml"
   ]
  },
  {
   "cell_type": "markdown",
   "metadata": {},
   "source": [
    "### Query 8"
   ]
  },
  {
   "cell_type": "code",
   "execution_count": null,
   "metadata": {},
   "outputs": [],
   "source": [
    "# Vanilla run\n",
    "!sed -e \"s/JUSTIN/false/g\" q8/query8.yaml |  kubectl apply -f -\n",
    "time.sleep(xp_duration)\n",
    "!kubectl delete -f q8/query8.yaml\n",
    "time.sleep(30)\n",
    "# Justin run\n",
    "!sed -e \"s/JUSTIN/true/g\" q8/query8.yaml |  kubectl apply -f -\n",
    "time.sleep(xp_duration)\n",
    "!kubectl delete -f q8/query8.yaml"
   ]
  },
  {
   "cell_type": "markdown",
   "metadata": {},
   "source": [
    "### Query 11"
   ]
  },
  {
   "cell_type": "code",
   "execution_count": null,
   "metadata": {},
   "outputs": [],
   "source": [
    "# Vanilla run\n",
    "!sed -e \"s/JUSTIN/false/g\" q11/query11.yaml |  kubectl apply -f -\n",
    "time.sleep(xp_duration)\n",
    "!kubectl delete -f q11/query11.yaml\n",
    "time.sleep(30)\n",
    "# Justin run\n",
    "!sed -e \"s/JUSTIN/true/g\" q11/query11.yaml |  kubectl apply -f -\n",
    "time.sleep(xp_duration)\n",
    "!kubectl delete -f q11/query11.yaml"
   ]
  }
 ],
 "metadata": {
  "kernelspec": {
   "display_name": "Python 3 (ipykernel)",
   "language": "python",
   "name": "python3"
  },
  "language_info": {
   "codemirror_mode": {
    "name": "ipython",
    "version": 3
   },
   "file_extension": ".py",
   "mimetype": "text/x-python",
   "name": "python",
   "nbconvert_exporter": "python",
   "pygments_lexer": "ipython3",
   "version": "3.8.10"
  }
 },
 "nbformat": 4,
 "nbformat_minor": 4
}
